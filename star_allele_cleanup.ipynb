{
 "cells": [
  {
   "cell_type": "code",
   "execution_count": 1,
   "metadata": {},
   "outputs": [],
   "source": [
    "import pandas as pd\n",
    "from pprint import pprint\n",
    "from collections import defaultdict\n",
    "import re"
   ]
  },
  {
   "cell_type": "markdown",
   "metadata": {},
   "source": [
    "# Potential Problem:\n",
    "- original star allele definition spreadsheet was generated from PharmVar according to RefSeq locus identification. I mistakenly identifed this as gene position.\n",
    "- Need to go back in, remake the spreadsheet for both GRCh37 and GRCh38. One csv for each\n",
    "- IF FEELING AMBITIOUS, expand to include genes not currently annotated by PharmVar\n",
    "  - need to figure out how to map from NG_*** notation to both 37 and 38\n",
    "\n",
    "# Things to do:\n",
    "- Refactor code into functions instead of scripts (look into OOP?)\n",
    "  - make the genome build callable from function\n",
    "  - function should be dependent on:\n",
    "    \n",
    "    1) genome build csv\n",
    "    \n",
    "    2) input vcf\n",
    "    \n",
    "    3) make check to verify that vcf and genome build match\n",
    "    \n",
    "- Read in vcf file\n",
    "  - scikit-allel -http://alimanfoo.github.io/2017/06/14/read-vcf.html\n",
    "  - read_vcf()?\n",
    "  - use vcfreader by Kamil Slowikowski\n",
    "- Iterate through vcf and return keys to match into mtIDs\n",
    "  - eventually return the star allele haplotypes"
   ]
  },
  {
   "cell_type": "code",
   "execution_count": 28,
   "metadata": {},
   "outputs": [],
   "source": [
    "uri = '/Users/david.hedges/projects/pgx_tool/pgx/Star Allele Dictionary.xlsx' # Fix me!!\n",
    "df = pd.read_excel(uri, na_filter=None)\n",
    "#df"
   ]
  },
  {
   "cell_type": "code",
   "execution_count": 30,
   "metadata": {
    "scrolled": true
   },
   "outputs": [],
   "source": [
    "df = df.replace({'-':''}, regex=True)\n",
    "\n",
    "changes = ['change_1','change_2','change_3','change_4','change_5',\n",
    "           'change_6','change_7','change_8','change_9','change_10',\n",
    "           'change_11','change_12','change_13','change_14','change_15',\n",
    "           'change_16','change_17','change_18','change_19','change_20',\n",
    "           'change_21','change_22','change_23','change_24','change_25',\n",
    "           'change_26','change_27','change_28','change_29','change_30',\n",
    "           'change_31','change_32','change_33','change_34','change_35',\n",
    "           'change_36','change_37','change_38']\n",
    "\n",
    "for i in changes:\n",
    "    df[i] = df[i].str.replace(r'\\(.*\\)','')\n",
    "\n",
    "# pop out mtID from dataframe\n",
    "df = df.drop(['mtID'], axis=1)"
   ]
  },
  {
   "cell_type": "code",
   "execution_count": 31,
   "metadata": {},
   "outputs": [],
   "source": [
    "# Start locations for genes\n",
    "genes38 = {'CYP2A13':41088451,'CYP2C8':95036772,'CYP2C9':94938658,'CYP2C19':94762681,\n",
    "    'CYP2D6':42126499,'CYP2F1':41114292,'CYP2J2':59893308,'CYP2R1':14878005,\n",
    "    'CYP2S1':41193219,'CYP2W1':983155,'CYP3A7':99705036,'CYP3A43':99827626,\n",
    "    'CYP4F2':15878023,'CYP26A1':93073475,'NUDT15':48037567}\n",
    "\n",
    "genes37 = {'CYP2A13':41594356,'CYP2C8':96796529,'CYP2C9':96698350,'CYP2C19':96522463,\n",
    "    'CYP2D6':42522501,'CYP2F1':41620312,'CYP2J2':60358980,'CYP2R1':14899551,\n",
    "    'CYP2S1':41699115,'CYP2W1':1020100,'CYP3A7':99302660,'CYP3A43':99425636,\n",
    "    'CYP4F2':15988834,'CYP26A1':94833232,'NUDT15':48611703}\n",
    "\n",
    "chroms = {'CYP2A13':19,'CYP2C8':10,'CYP2C9':10,'CYP2C19':10,\n",
    "    'CYP2D6':22,'CYP2F1':19,'CYP2J2':1,'CYP2R1':11,\n",
    "    'CYP2S1':19,'CYP2W1':7,'CYP3A7':7,'CYP3A43':7,\n",
    "    'CYP4F2':19,'CYP26A1':10,'NUDT15':13}"
   ]
  },
  {
   "cell_type": "code",
   "execution_count": 140,
   "metadata": {
    "scrolled": true
   },
   "outputs": [],
   "source": [
    "df['Gene'] = df['Allele'].map(lambda x: x.split('*',1)[0])\n",
    "#df"
   ]
  },
  {
   "cell_type": "markdown",
   "metadata": {},
   "source": [
    "## make change here, no need to split out the * when we just made a new column"
   ]
  },
  {
   "cell_type": "code",
   "execution_count": 141,
   "metadata": {
    "scrolled": true
   },
   "outputs": [],
   "source": [
    "# replace allele name with gene name\n",
    "df_change['Allele'] = df['Allele'].map(lambda x: x.split('*',1)[0])\n",
    "#df_change"
   ]
  },
  {
   "cell_type": "code",
   "execution_count": 143,
   "metadata": {},
   "outputs": [],
   "source": [
    "# make list (set) of all variants within the gene\n",
    "#variant_dict = df_change.set_index('Allele').T.to_dict('list')\n",
    "variant_dict = df_change.T.to_dict('list')\n",
    "#rint(variant_dict)"
   ]
  },
  {
   "cell_type": "code",
   "execution_count": 144,
   "metadata": {},
   "outputs": [],
   "source": [
    "# remove empty strings and clean whitespace\n",
    "for key, val in variant_dict.items():\n",
    "    #key.strip()\n",
    "    val[:] = [i.strip() for i in val if i != '']\n",
    "\n",
    "#variant_dict"
   ]
  },
  {
   "cell_type": "code",
   "execution_count": 152,
   "metadata": {},
   "outputs": [],
   "source": [
    "# create master list of variants for each gene\n",
    "dd_variants = defaultdict(list)\n",
    "for k,v in variant_dict.items():\n",
    "    dd_variants[v[0]].append(v[1:])\n",
    "    \n",
    "for k,v in dd_variants.items():\n",
    "    dd_variants[k] = set([i for j in v for i in j])\n",
    "    \n",
    "#dd_variants"
   ]
  },
  {
   "cell_type": "markdown",
   "metadata": {},
   "source": [
    "# Maybe when the GRCh build problem is fixed, I can just make one mapping dict"
   ]
  },
  {
   "cell_type": "code",
   "execution_count": 154,
   "metadata": {},
   "outputs": [],
   "source": [
    "\n",
    "mt_list = []\n",
    "for i in dd_variants.keys():\n",
    "    gene_start_38 = genes38[i]\n",
    "    gene_name = i\n",
    "    chrom_num = chroms[i]\n",
    "    for j in dd_variants[i]:\n",
    "        if '>' in j:\n",
    "            var_type = 'substitution'\n",
    "            pos = [int(x) for x in re.findall(r'\\d+', j)][0]\n",
    "            sub = j.replace(str(pos),'')\n",
    "            geno_pos = gene_start_38 + pos\n",
    "            ref = sub[0]\n",
    "            alt = sub[-1]\n",
    "            mt_list.append([chrom_num, gene_name, var_type, geno_pos, pos, ref, alt]) \n",
    "        if 'ins' in j:\n",
    "            var_type = 'insertion'\n",
    "            pos = [int(j) for j in re.findall(r'\\d+', i)][0]\n",
    "            geno_pos = gene_start_38 + pos\n",
    "            ref = '-'\n",
    "            alt = ''.join(x for x in j if not x.isdigit()).replace('_ins','')\n",
    "            mt_list.append([chrom_num, gene_name, var_type, geno_pos, pos, ref, alt])\n",
    "        if 'del' in j:\n",
    "            var_type = 'deletion'\n",
    "            pos = [int(j) for j in re.findall(r'\\d+', i)][0]\n",
    "            geno_pos = gene_start_38 + pos\n",
    "            ref = ''.join(x for x in j if not x.isdigit()).replace('del','')\n",
    "            alt = '-'\n",
    "            mt_list.append([chrom_num, gene_name, var_type, geno_pos, pos, ref, alt]) \n",
    "mt_dict = {mt_list.index(i):i for i in mt_list}\n",
    "#mt_dict"
   ]
  },
  {
   "cell_type": "code",
   "execution_count": 147,
   "metadata": {},
   "outputs": [],
   "source": [
    "mt_lookup = []\n",
    "for i in dd_variants.keys():\n",
    "    gene_start_38 = genes38[i]\n",
    "    gene_name = i\n",
    "    chrom_num = chroms[i]\n",
    "    for j in dd_variants[i]:\n",
    "        if '>' in j:\n",
    "            var_type = 'substitution'\n",
    "            pos = [int(x) for x in re.findall(r'\\d+', j)][0]\n",
    "            sub = j.replace(str(pos),'')\n",
    "            geno_pos = gene_start_38 + pos\n",
    "            ref = sub[0]\n",
    "            alt = sub[-1]\n",
    "            mt_lookup.append((gene_name, var_type, pos, ref, alt)) \n",
    "        if 'ins' in j:\n",
    "            var_type = 'insertion'\n",
    "            pos = [int(j) for j in re.findall(r'\\d+', j)][0]\n",
    "            geno_pos = gene_start_38 + pos\n",
    "            ref = '-'\n",
    "            alt = ''.join(x for x in j if not x.isdigit()).replace('_ins','')\n",
    "            mt_lookup.append((gene_name, var_type, pos, ref, alt))\n",
    "        if 'del' in j:\n",
    "            var_type = 'deletion'\n",
    "            pos = [int(j) for j in re.findall(r'\\d+', j)][0]\n",
    "            geno_pos = gene_start_38 + pos\n",
    "            ref = ''.join(x for x in j if not x.isdigit()).replace('del','')\n",
    "            alt = '-'\n",
    "            mt_lookup.append((gene_name, var_type, pos, ref, alt)) \n",
    "            \n",
    "mt_lookup_dict_inverse = {mt_lookup.index(i):i for i in mt_lookup}\n",
    "mt_lookup_dict = {y:x for x,y in mt_lookup_dict_inverse.items()}\n",
    "#mt_lookup_dict"
   ]
  },
  {
   "cell_type": "code",
   "execution_count": 148,
   "metadata": {
    "scrolled": true
   },
   "outputs": [],
   "source": [
    "star_dict = df.set_index('Allele').T.to_dict('list')\n",
    "\n",
    "# remove empty strings and clean whitespace\n",
    "for key, val in star_dict.items():\n",
    "    val[:] = [i.strip() for i in val if i != '']"
   ]
  },
  {
   "cell_type": "code",
   "execution_count": 133,
   "metadata": {
    "scrolled": true
   },
   "outputs": [],
   "source": [
    "profile_dict_inverse = defaultdict(list)\n",
    "for k,v in star_dict.items():\n",
    "    for i in v:\n",
    "        if '>' in i:\n",
    "            var_type = 'substitution'\n",
    "            gene = v[-1]\n",
    "            pos = [int(x) for x in re.findall(r'\\d+', i)][0]\n",
    "            sub = i.replace(str(pos),'')\n",
    "            ref = sub[0]\n",
    "            alt = sub[-1]\n",
    "            active_variant = (gene,var_type,pos,ref,alt)\n",
    "            profile_dict_inverse[k].append('mt'+str(mt_lookup_dict[active_variant]))\n",
    "        \n",
    "        if 'ins' in i:\n",
    "            var_type = 'insertion'\n",
    "            pos = [int(x) for x in re.findall(r'\\d+', i)][0]\n",
    "            gene = v[-1]\n",
    "            ref = '-'\n",
    "            alt = ''.join(x for x in i if not x.isdigit()).replace('_ins','')\n",
    "            active_variant = (gene,var_type,pos,ref,alt)\n",
    "            profile_dict_inverse[k].append('mt'+str(mt_lookup_dict[active_variant]))\n",
    "        \n",
    "        if 'del' in i:\n",
    "            var_type = 'deletion'\n",
    "            gene = v[-1]\n",
    "            pos = [int(x) for x in re.findall(r'\\d+', i)][0]\n",
    "            ref = ''.join(x for x in i if not x.isdigit()).replace('del','')\n",
    "            alt = '-'\n",
    "            active_variant = (gene,var_type,pos,ref,alt)\n",
    "            profile_dict_inverse[k].append('mt'+str(mt_lookup_dict[active_variant]))"
   ]
  },
  {
   "cell_type": "code",
   "execution_count": 149,
   "metadata": {},
   "outputs": [],
   "source": [
    "#profile_dict_inverse"
   ]
  },
  {
   "cell_type": "code",
   "execution_count": 150,
   "metadata": {},
   "outputs": [],
   "source": [
    "## Make mt_dict from vcf\n"
   ]
  },
  {
   "cell_type": "code",
   "execution_count": null,
   "metadata": {},
   "outputs": [],
   "source": []
  },
  {
   "cell_type": "code",
   "execution_count": null,
   "metadata": {},
   "outputs": [],
   "source": []
  }
 ],
 "metadata": {
  "kernelspec": {
   "display_name": "Python 3",
   "language": "python",
   "name": "python3"
  },
  "language_info": {
   "codemirror_mode": {
    "name": "ipython",
    "version": 3
   },
   "file_extension": ".py",
   "mimetype": "text/x-python",
   "name": "python",
   "nbconvert_exporter": "python",
   "pygments_lexer": "ipython3",
   "version": "3.7.3"
  }
 },
 "nbformat": 4,
 "nbformat_minor": 2
}
